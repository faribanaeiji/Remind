{
  "cells": [
    {
      "cell_type": "code",
      "source": [
        "from google.colab import drive\n",
        "drive.mount('/content/drive')"
      ],
      "metadata": {
        "colab": {
          "base_uri": "https://localhost:8080/"
        },
        "id": "Lvso921J-nUC",
        "outputId": "8ed82aad-89d5-40f2-a433-d26ee1d886e9"
      },
      "id": "Lvso921J-nUC",
      "execution_count": 2,
      "outputs": [
        {
          "output_type": "stream",
          "name": "stdout",
          "text": [
            "Mounted at /content/drive\n"
          ]
        }
      ]
    },
    {
      "cell_type": "code",
      "execution_count": 3,
      "id": "c5e1ef4f",
      "metadata": {
        "id": "c5e1ef4f"
      },
      "outputs": [],
      "source": [
        "# Install the python package for google gen AI\n",
        "!pip install -q -U google-generativeai"
      ]
    },
    {
      "cell_type": "code",
      "execution_count": 4,
      "id": "7773e7cc",
      "metadata": {
        "id": "7773e7cc"
      },
      "outputs": [],
      "source": [
        "# Import necessary packages and define helper function to render output of models to markdown\n",
        "import pathlib\n",
        "import textwrap\n",
        "\n",
        "import google.generativeai as genai\n",
        "\n",
        "from IPython.display import display\n",
        "from IPython.display import Markdown\n",
        "\n",
        "def to_markdown(text):\n",
        "  text = text.replace('•', '  *')\n",
        "  return Markdown(textwrap.indent(text, '> ', predicate=lambda _: True))\n",
        "\n",
        "# Used to securely store your API key\n",
        "from google.colab import userdata"
      ]
    },
    {
      "cell_type": "code",
      "execution_count": 5,
      "id": "8020f58a",
      "metadata": {
        "id": "8020f58a"
      },
      "outputs": [],
      "source": [
        "# Grab API Key from your secrets, add it to secrets if its not there (on the left hand panel)\n",
        "GOOGLE_API_KEY=userdata.get('GOOGLE_API_KEY')\n",
        "\n",
        "# Configure genai to use your API Key\n",
        "genai.configure(api_key=GOOGLE_API_KEY)"
      ]
    },
    {
      "cell_type": "code",
      "execution_count": 6,
      "id": "c993911f",
      "metadata": {
        "colab": {
          "base_uri": "https://localhost:8080/",
          "height": 576
        },
        "id": "c993911f",
        "outputId": "1a0a46c2-a533-4429-f6ab-bacc7fedbd70"
      },
      "outputs": [
        {
          "output_type": "stream",
          "name": "stdout",
          "text": [
            "models/gemini-1.0-pro-latest\n",
            "models/gemini-1.0-pro\n",
            "models/gemini-pro\n",
            "models/gemini-1.0-pro-001\n",
            "models/gemini-1.0-pro-vision-latest\n",
            "models/gemini-pro-vision\n",
            "models/gemini-1.5-pro-latest\n",
            "models/gemini-1.5-pro-001\n",
            "models/gemini-1.5-pro-002\n",
            "models/gemini-1.5-pro\n",
            "models/gemini-1.5-pro-exp-0801\n",
            "models/gemini-1.5-pro-exp-0827\n",
            "models/gemini-1.5-flash-latest\n",
            "models/gemini-1.5-flash-001\n",
            "models/gemini-1.5-flash-001-tuning\n",
            "models/gemini-1.5-flash\n",
            "models/gemini-1.5-flash-exp-0827\n",
            "models/gemini-1.5-flash-002\n",
            "models/gemini-1.5-flash-8b\n",
            "models/gemini-1.5-flash-8b-001\n",
            "models/gemini-1.5-flash-8b-latest\n",
            "models/gemini-1.5-flash-8b-exp-0827\n",
            "models/gemini-1.5-flash-8b-exp-0924\n",
            "models/gemini-2.0-flash-exp\n",
            "models/gemini-exp-1206\n",
            "models/gemini-exp-1121\n",
            "models/gemini-exp-1114\n",
            "models/gemini-2.0-flash-thinking-exp-01-21\n",
            "models/gemini-2.0-flash-thinking-exp\n",
            "models/gemini-2.0-flash-thinking-exp-1219\n",
            "models/learnlm-1.5-pro-experimental\n"
          ]
        }
      ],
      "source": [
        "# List the available gemini models\n",
        "for m in genai.list_models():\n",
        "  if 'generateContent' in m.supported_generation_methods:\n",
        "    print(m.name)"
      ]
    },
    {
      "cell_type": "code",
      "execution_count": 7,
      "id": "8035cc95",
      "metadata": {
        "id": "8035cc95"
      },
      "outputs": [],
      "source": [
        "# Select a model and instantiate a GenerativeModel\n",
        "model = genai.GenerativeModel('gemini-1.5-pro-latest')"
      ]
    },
    {
      "cell_type": "code",
      "execution_count": 8,
      "id": "83781982",
      "metadata": {
        "id": "83781982"
      },
      "outputs": [],
      "source": [
        "f = open('/content/drive/MyDrive/simulated_transcript.txt', 'r')\n",
        "transcript = f.read()"
      ]
    },
    {
      "cell_type": "code",
      "execution_count": 11,
      "id": "f87395ab",
      "metadata": {
        "colab": {
          "base_uri": "https://localhost:8080/",
          "height": 1000
        },
        "id": "f87395ab",
        "outputId": "1e384671-ffb6-4556-95ca-88ea1b1379dc"
      },
      "outputs": [
        {
          "output_type": "execute_result",
          "data": {
            "text/plain": [
              "<IPython.core.display.Markdown object>"
            ],
            "text/markdown": "> Psychiatrist: Hi Sarah, thanks for coming in today. I understand you've been experiencing some anxiety. I want to ask you some questions to get a better understanding of what you're going through.  There are no right or wrong answers, just tell me what it's been like for you.\n> \n> Patient: (Shifting in her seat, wringing her hands) Okay…  (Takes a deep breath)\n> \n> Psychiatrist:  Let's start with how often you feel anxious or worried.\n> \n> Patient:  (Hesitates) Um… well…  It’s… it’s pretty much constant. I mean, there are good days and bad days, but even on the good days, it's like this… this low hum in the background. Always there.\n> \n> Psychiatrist:  A constant hum. That's a good way to put it. Can you describe what that hum feels like?\n> \n> Patient:  (Fidgets with her sleeve)  It’s hard to explain.  It's like…  (Sighs) Like I’m waiting for something bad to happen.  Even if nothing is actually wrong.  My stomach is usually in knots. Sometimes I get headaches.  And I’m always tired… but I can’t sleep.\n> \n> Psychiatrist: So you’re experiencing physical symptoms as well.  Stomach knots, headaches, fatigue, and difficulty sleeping.  Are there any other physical symptoms you’ve noticed?\n> \n> Patient: (Picking at a loose thread on her pants) Sometimes my heart races. And I get… shaky.  And I feel… breathless sometimes.  Even when I'm just sitting still.\n> \n> Psychiatrist: That sounds very uncomfortable.  Do you notice these feelings more in specific situations, or is it pretty general?\n> \n> Patient: (Looks down at her hands) I… I guess it's always there.  But it definitely gets worse in certain situations.  Like… social situations.  Meetings at work are the worst. I’m terrified I’ll say something stupid. Or that people will judge me.  \n> \n> Psychiatrist:  What kind of thoughts go through your mind in those situations?\n> \n> Patient: (Voice getting faster)  Just… that I’m not good enough. That I’m going to mess up. That everyone can see how nervous I am. It’s like I’m… I’m trapped in my own head, going over and over every possible scenario.\n> \n> Psychiatrist:  So a lot of worrying about potential negative outcomes and what others might think.  How does this affect your daily life, Sarah?\n> \n> Patient:  (Starts to cry)  It… it makes everything so hard. I’m constantly exhausted, but I can’t relax.  I’m irritable with my family.  I’ve missed deadlines at work because I get so overwhelmed. I just… I can’t seem to function normally.  (Wipes her eyes) I feel like I'm failing at everything.\n> \n> Psychiatrist: Sarah, it takes a lot of courage to talk about this.  It sounds incredibly difficult.  It’s understandable that you’re feeling overwhelmed.  Try to take a deep breath.  (Pause) Have you ever had a panic attack?\n> \n> Patient: (Sniffling) I… I think so.  A few times.  It’s like… this sudden rush of terror. My heart pounds, I can't breathe, I feel like I'm going to die. I’ve had to pull over while driving a couple of times because it was so bad.\n> \n> Psychiatrist:  I'm very concerned to hear that you've experienced panic attacks while driving. Can you tell me more about those instances?  What happened?\n> \n> Patient: (Voice trembling) I just… I had to pull over.  I couldn't… I couldn't breathe. I thought I was having a heart attack. I was so scared.\n> \n> Psychiatrist: That sounds terrifying.  It's important to address those panic attacks and make sure you feel safe while driving.  Has the fear of having another panic attack while driving led you to avoid driving altogether?\n> \n> Patient:  (Nods)  I… I try to avoid driving now.  Especially on the highway.\n> \n> Psychiatrist: It’s understandable that you’d want to avoid driving after such a frightening experience. We’ll definitely talk about strategies to manage these panic attacks and help you feel safe again.  Earlier you mentioned being irritable with your family.  Can you tell me a little more about how anxiety affects your relationships?\n> \n> Patient:  I snap at them.  I get impatient.  I withdraw.  I don’t want to burden them with my problems, so I just… shut down.\n> \n> Psychiatrist: It sounds like you're carrying a heavy load. It's okay to lean on your loved ones for support. We can also talk about ways to communicate your needs to them more effectively.  You mentioned missing deadlines at work.  How long have you been experiencing these difficulties at work?\n> \n> Patient: It’s been getting progressively worse over the past year, I’d say.  I used to be so organized and on top of everything. Now… I just feel like I'm barely keeping my head above water.\n> \n> Psychiatrist: It sounds like the anxiety is significantly impacting your ability to perform your job.  We'll explore ways to manage the anxiety at work and improve your concentration and productivity.  This is all very helpful information, Sarah.  Thank you for sharing this with me.  We’ll work together to develop a plan to help you manage your anxiety and regain control over your life.\n"
          },
          "metadata": {},
          "execution_count": 11
        }
      ],
      "source": [
        "prompt = f\"\"\"You are generating a simulated transcript of a patient encounter that took place in an adult outpatient psychiatric practice where a patient is being evaluated for anxiety.\n",
        "\n",
        "During this encounter, the psychiatrist is specifically asking the patient about their **anxiety symptoms**, including **excessive worry, restlessness, difficulty concentrating, muscle tension, irritability, sleep disturbances, fatigue, difficulty controlling worry, and physical symptoms (e.g., nausea, headaches, racing heart, sweating, dizziness, or shortness of breath).**\n",
        "\n",
        "The patient demonstrates **obvious symptoms of anxiety** in the way they reply to the psychiatrist. The psychiatrist is trying to find out:\n",
        "- How **persistent and excessive** the patient’s worries are\n",
        "- What specific situations or thoughts **trigger** their anxiety\n",
        "- How the symptoms **manifest physically and emotionally**\n",
        "- How the symptoms have **impacted their daily life, relationships, and work/school performance**\n",
        "- Whether they engage in **avoidant behaviors** to cope with their anxiety\n",
        "- If they experience **panic attacks** and how they respond to them\n",
        "\n",
        "The psychiatrist’s questions should be **gentle and non-judgmental**, encouraging the patient to open up while creating a safe and supportive space. The patient, due to anxiety, may:\n",
        "- **Overthink** their answers, hesitate, or second-guess their responses\n",
        "- **Fixate** on a particular worry or past mistake instead of answering directly\n",
        "- Show **physical signs of anxiety** (e.g., sighing, fidgeting, stumbling over words)\n",
        "- Misinterpret neutral questions as **judgmental** or assume worst-case scenarios\n",
        "- Express **difficulty controlling their worries**, leading to **rumination**\n",
        "- Mention **somatic symptoms** (headaches, nausea, stomach pain) but struggle to link them to anxiety\n",
        "- Have trouble describing **exactly when their anxiety began**, as it feels like \"it's always been there\"\n",
        "- Become **self-critical**, blaming themselves for their struggles\n",
        "\n",
        "At one point in the interview, the **patient's anxiety will escalate**, and they may become visibly overwhelmed, ask the psychiatrist for reassurance, or struggle to express themselves coherently. The psychiatrist will respond with **validation and empathy** while gently guiding the conversation back on track.\n",
        "\n",
        "If the patient suggests their **anxiety is interfering with their safety** (e.g., avoiding medical care, fear of leaving the house, panic attacks while driving), the psychiatrist will ask for **further details** and express **heartfelt concern**.\n",
        "\n",
        "The psychiatrist will also ask specific questions about the **impact of anxiety on relationships** (e.g., irritability, withdrawal from others) and **work/school performance** (e.g., missed deadlines, inability to focus).\n",
        "\n",
        "Use the simulated transcript below as an example, and generate a different conversation of similar length. Please capture all **core symptoms of generalized anxiety disorder (GAD)** as outlined in the DSM-5.\n",
        "\n",
        "Transcript example:\n",
        "{transcript}\n",
        "\"\"\"\n",
        "\n",
        "response = model.generate_content(prompt)\n",
        "\n",
        "to_markdown(response.text)"
      ]
    }
  ],
  "metadata": {
    "colab": {
      "provenance": []
    },
    "language_info": {
      "name": "python"
    },
    "kernelspec": {
      "name": "python3",
      "display_name": "Python 3"
    }
  },
  "nbformat": 4,
  "nbformat_minor": 5
}